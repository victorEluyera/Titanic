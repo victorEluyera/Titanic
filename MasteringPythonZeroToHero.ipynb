{
 "cells": [
  {
   "cell_type": "markdown",
   "id": "3bfb2c86-c59f-43c6-be8e-fe262cb5b756",
   "metadata": {},
   "source": [
    "# This is Python Tutorial"
   ]
  },
  {
   "cell_type": "code",
   "execution_count": 2,
   "id": "eaadc809-dd27-411b-aa75-065ba074caf9",
   "metadata": {},
   "outputs": [],
   "source": [
    "x=3\n",
    "y='james'"
   ]
  },
  {
   "cell_type": "code",
   "execution_count": 3,
   "id": "26fee33e-8d07-4551-8178-d107a669c465",
   "metadata": {},
   "outputs": [
    {
     "name": "stdout",
     "output_type": "stream",
     "text": [
      "Variable   Type    Data/Info\n",
      "----------------------------\n",
      "x          int     3\n",
      "y          str     james\n"
     ]
    }
   ],
   "source": [
    "%whos"
   ]
  },
  {
   "cell_type": "code",
   "execution_count": 4,
   "id": "93ea452d-3629-4c06-9d6b-c5a4740211c7",
   "metadata": {},
   "outputs": [],
   "source": [
    "x=5.7"
   ]
  },
  {
   "cell_type": "code",
   "execution_count": 5,
   "id": "a1d56030-e0cc-45b2-890a-68a117a9132c",
   "metadata": {},
   "outputs": [
    {
     "name": "stdout",
     "output_type": "stream",
     "text": [
      "Variable   Type     Data/Info\n",
      "-----------------------------\n",
      "x          float    5.7\n",
      "y          str      james\n"
     ]
    }
   ],
   "source": [
    "%whos"
   ]
  },
  {
   "cell_type": "code",
   "execution_count": 6,
   "id": "072dea65-7d92-492c-b6e2-3aa4cc6d06a6",
   "metadata": {},
   "outputs": [],
   "source": [
    "abcd=894"
   ]
  },
  {
   "cell_type": "code",
   "execution_count": 7,
   "id": "232b5841-e0df-4ff1-b557-781c03c18833",
   "metadata": {},
   "outputs": [
    {
     "name": "stdout",
     "output_type": "stream",
     "text": [
      "Variable   Type     Data/Info\n",
      "-----------------------------\n",
      "abcd       int      894\n",
      "x          float    5.7\n",
      "y          str      james\n"
     ]
    }
   ],
   "source": [
    "%whos"
   ]
  },
  {
   "cell_type": "code",
   "execution_count": null,
   "id": "f74f4ea9-7586-4f0e-8bd5-0bd1287cdb02",
   "metadata": {},
   "outputs": [],
   "source": [
    "del y"
   ]
  },
  {
   "cell_type": "code",
   "execution_count": null,
   "id": "8e8b119a-fbbf-4f06-ba55-68cb296f666b",
   "metadata": {},
   "outputs": [],
   "source": [
    "%whos"
   ]
  },
  {
   "cell_type": "code",
   "execution_count": null,
   "id": "d54a3620-9159-429c-a209-dfd9490c39d4",
   "metadata": {},
   "outputs": [],
   "source": [
    "print(y)"
   ]
  },
  {
   "cell_type": "code",
   "execution_count": null,
   "id": "d627b026-157b-4a8b-b803-4448be4f8292",
   "metadata": {},
   "outputs": [],
   "source": [
    "c= 2+4j"
   ]
  },
  {
   "cell_type": "code",
   "execution_count": null,
   "id": "76225b02-e82e-4c6d-9cd6-10fa5effda60",
   "metadata": {},
   "outputs": [],
   "source": [
    "%whos"
   ]
  },
  {
   "cell_type": "code",
   "execution_count": null,
   "id": "35537524-f970-429e-8ec3-5cc2e094c976",
   "metadata": {},
   "outputs": [],
   "source": [
    "abcd + c"
   ]
  },
  {
   "cell_type": "code",
   "execution_count": null,
   "id": "34e2b3ed-4d21-401a-a219-f6b56531e2cd",
   "metadata": {},
   "outputs": [],
   "source": [
    "2//2"
   ]
  },
  {
   "cell_type": "code",
   "execution_count": null,
   "id": "52936249-50ae-4a12-abb1-c23e0a51f51e",
   "metadata": {},
   "outputs": [],
   "source": [
    "2//3"
   ]
  },
  {
   "cell_type": "code",
   "execution_count": null,
   "id": "57e8e8f2-fd2a-4bde-be95-826e50f35d6f",
   "metadata": {},
   "outputs": [],
   "source": [
    "3//2"
   ]
  },
  {
   "cell_type": "code",
   "execution_count": null,
   "id": "e2c0114b-1ad8-4c16-b6df-7e8558147885",
   "metadata": {},
   "outputs": [],
   "source": [
    "s1='Hello'\n",
    "s2='Why'"
   ]
  },
  {
   "cell_type": "code",
   "execution_count": null,
   "id": "68afe73b-e7e8-4bae-a242-258899bb9cdf",
   "metadata": {},
   "outputs": [],
   "source": [
    "adds1s2=s1 + s2"
   ]
  },
  {
   "cell_type": "code",
   "execution_count": null,
   "id": "cd526e8f-e4b5-4a2d-b8ad-08a4e3a1a133",
   "metadata": {},
   "outputs": [],
   "source": [
    "%whos"
   ]
  },
  {
   "cell_type": "code",
   "execution_count": null,
   "id": "6d099037-b85b-4172-b6ff-4e670aac408d",
   "metadata": {},
   "outputs": [],
   "source": [
    "abcd + x"
   ]
  },
  {
   "cell_type": "code",
   "execution_count": null,
   "id": "9f1b8142-4d3e-424b-a6d3-892474504e6f",
   "metadata": {},
   "outputs": [],
   "source": [
    "x+abcd"
   ]
  },
  {
   "cell_type": "code",
   "execution_count": null,
   "id": "6e1f2a43-2c5b-4c7e-9db9-24091708eafb",
   "metadata": {},
   "outputs": [],
   "source": [
    "3x=2"
   ]
  },
  {
   "cell_type": "code",
   "execution_count": null,
   "id": "e994fe18-d921-4709-9c70-9d88822a58ee",
   "metadata": {},
   "outputs": [],
   "source": [
    "@jb=893"
   ]
  },
  {
   "cell_type": "code",
   "execution_count": null,
   "id": "08dc6b5d-62b7-49b3-8bdd-55b828452b1e",
   "metadata": {},
   "outputs": [],
   "source": [
    "_james=9"
   ]
  },
  {
   "cell_type": "code",
   "execution_count": null,
   "id": "1bb89d30-b697-4442-a23a-7de123925068",
   "metadata": {},
   "outputs": [],
   "source": [
    "_james"
   ]
  },
  {
   "cell_type": "code",
   "execution_count": null,
   "id": "56bd4b5b-f2d1-490d-9c93-501b58f6ef4c",
   "metadata": {},
   "outputs": [],
   "source": [
    "d=True\n",
    "j=False"
   ]
  },
  {
   "cell_type": "code",
   "execution_count": null,
   "id": "d34b1dc4-7061-443e-a98f-81f21c7e8d03",
   "metadata": {},
   "outputs": [],
   "source": [
    "%whos"
   ]
  },
  {
   "cell_type": "code",
   "execution_count": null,
   "id": "4bdc3bda-4c3c-4604-9d42-c46b60ae488e",
   "metadata": {},
   "outputs": [],
   "source": [
    "False or True and True or True"
   ]
  },
  {
   "cell_type": "code",
   "execution_count": null,
   "id": "0e11bddd-e0fc-490f-9224-6b12ec0e42f0",
   "metadata": {},
   "outputs": [],
   "source": [
    "print((not(2!=3)and True) or (False and True))"
   ]
  },
  {
   "cell_type": "code",
   "execution_count": null,
   "id": "08ad1d72-8d7c-4d46-8faa-1568941c14b6",
   "metadata": {},
   "outputs": [],
   "source": [
    "print(round(4.9374848236,2))"
   ]
  },
  {
   "cell_type": "code",
   "execution_count": null,
   "id": "7046e679-e0c8-4143-bc56-81ac85b20a90",
   "metadata": {},
   "outputs": [],
   "source": [
    "print(divmod(277,5))"
   ]
  },
  {
   "cell_type": "code",
   "execution_count": null,
   "id": "2aa69ad0-9d0b-40ba-a7cf-649f8a92023e",
   "metadata": {},
   "outputs": [],
   "source": [
    "print(isinstance(3,int))"
   ]
  },
  {
   "cell_type": "code",
   "execution_count": null,
   "id": "95f66eee-f8d7-46c5-bcdc-ffbf43b33a04",
   "metadata": {},
   "outputs": [],
   "source": [
    "print(pow(3,2,3))"
   ]
  },
  {
   "cell_type": "code",
   "execution_count": null,
   "id": "04f20283-aad4-40a4-ba85-d89833ee7059",
   "metadata": {},
   "outputs": [],
   "source": [
    "f=input('Enter a number:')"
   ]
  },
  {
   "cell_type": "code",
   "execution_count": null,
   "id": "bb01e1c2-ad8d-445d-9099-7e7777bb9c1c",
   "metadata": {},
   "outputs": [],
   "source": [
    "print(f)"
   ]
  },
  {
   "cell_type": "code",
   "execution_count": null,
   "id": "aecfd0c5-d2cb-46b0-a454-8814c140343e",
   "metadata": {},
   "outputs": [],
   "source": [
    "pow??"
   ]
  },
  {
   "cell_type": "code",
   "execution_count": 8,
   "id": "cd0dcf0a-025b-4c98-9ca5-bfbb3831a1bc",
   "metadata": {},
   "outputs": [
    {
     "name": "stdin",
     "output_type": "stream",
     "text": [
      "Enter the float: 10\n"
     ]
    },
    {
     "name": "stdout",
     "output_type": "stream",
     "text": [
      "This is Even Number\n",
      "10\n"
     ]
    }
   ],
   "source": [
    "x=float(input('Enter the float:'))\n",
    "y=round(x)\n",
    "\n",
    "if y>0:\n",
    "    if y>x:\n",
    "         y=y-1\n",
    "    if y%2==1:\n",
    "      print('This is Odd Number')\n",
    "    else:\n",
    "      print('This is Even Number')\n",
    "    \n",
    "else:\n",
    "     if y<x:\n",
    "         y=y+ 1\n",
    "     if y%2==1 :\n",
    "       print('This is Odd Number')\n",
    "     else:\n",
    "       print('This is Even Number')\n",
    "    \n",
    "    \n",
    "    \n",
    "print(y)"
   ]
  },
  {
   "cell_type": "code",
   "execution_count": null,
   "id": "2f329ac3-c3b1-477e-ade9-6545d9059313",
   "metadata": {},
   "outputs": [],
   "source": [
    "n=int(input('Enter this :'))\n",
    "i=1\n",
    "while i < n:\n",
    "    print(i**i)\n",
    "    print('This is iteration number :',i)\n",
    "    i += 1"
   ]
  },
  {
   "cell_type": "code",
   "execution_count": 13,
   "id": "1ef60bb2-3a71-4362-a83a-1533d7e4f723",
   "metadata": {},
   "outputs": [
    {
     "name": "stdin",
     "output_type": "stream",
     "text": [
      "Enter Input Integer:  10\n"
     ]
    },
    {
     "name": "stdout",
     "output_type": "stream",
     "text": [
      "Odd\n",
      "Even\n",
      "Done\n"
     ]
    }
   ],
   "source": [
    "n=int(input('Enter Input Integer: '))\n",
    "i=1\n",
    "while True:\n",
    "    if i&9 == 0:\n",
    "        print('Even')\n",
    "        # print(i)\n",
    "        break\n",
    "    else:\n",
    "        print('Odd')\n",
    "        i=i+1\n",
    "        # print(i)\n",
    "print('Done')"
   ]
  },
  {
   "cell_type": "code",
   "execution_count": 3,
   "id": "4ac91190-7c3f-43c5-9812-caed68bb7450",
   "metadata": {},
   "outputs": [
    {
     "name": "stdout",
     "output_type": "stream",
     "text": [
      "1\n",
      "2\n",
      "3\n",
      "4\n",
      "5\n",
      "6\n",
      "7\n",
      "8\n",
      "9\n",
      "10\n",
      "[0, 1, 4, 9, 16, 25, 36, 49, 64, 81]\n"
     ]
    }
   ],
   "source": [
    "L=[]\n",
    "for i in range(10):\n",
    "    print(i + 1)\n",
    "    L.append(i**2)\n",
    "print(L)"
   ]
  },
  {
   "cell_type": "code",
   "execution_count": 6,
   "id": "caf12f14-c16a-4382-b4e1-52aa012b04b9",
   "metadata": {},
   "outputs": [
    {
     "data": {
      "text/plain": [
       "7"
      ]
     },
     "execution_count": 6,
     "metadata": {},
     "output_type": "execute_result"
    }
   ],
   "source": [
    "def jim(a,b,c):\n",
    "    insisi=a+b+c\n",
    "    # print(insisi)\n",
    "    return insisi\n",
    "jim(1,2,4)\n",
    "# print(insisi)"
   ]
  },
  {
   "cell_type": "code",
   "execution_count": 1,
   "id": "73766d98-d4f4-4f6e-a50a-e2420216db71",
   "metadata": {},
   "outputs": [
    {
     "data": {
      "text/plain": [
       "21"
      ]
     },
     "execution_count": 1,
     "metadata": {},
     "output_type": "execute_result"
    }
   ],
   "source": [
    "def add(*number):\n",
    "    sum=0\n",
    "    for i in range(len(number)):\n",
    "        sum+=number[i]\n",
    "    return sum\n",
    "add(4,5,6,6)"
   ]
  },
  {
   "cell_type": "code",
   "execution_count": 1,
   "id": "58939496-d1c1-42e4-b2ab-f4608d2434d9",
   "metadata": {},
   "outputs": [],
   "source": [
    " a= \"\"\"this is line one\n",
    " this is line two\n",
    " this is last line\n",
    " \"\"\""
   ]
  },
  {
   "cell_type": "code",
   "execution_count": 5,
   "id": "0de18be5-a279-49d4-b945-096082df50c5",
   "metadata": {},
   "outputs": [
    {
     "name": "stdout",
     "output_type": "stream",
     "text": [
      "this is \n"
     ]
    }
   ],
   "source": [
    "print(a[:8])"
   ]
  },
  {
   "cell_type": "code",
   "execution_count": 3,
   "id": "c5cb7029-7c96-4ab9-8c70-e763398be849",
   "metadata": {},
   "outputs": [
    {
     "name": "stdout",
     "output_type": "stream",
     "text": [
      "52\n"
     ]
    }
   ],
   "source": [
    "print(len(a))"
   ]
  },
  {
   "cell_type": "code",
   "execution_count": 7,
   "id": "9853336f-2596-4665-9302-14d52476bc46",
   "metadata": {},
   "outputs": [
    {
     "data": {
      "text/plain": [
       "2"
      ]
     },
     "execution_count": 7,
     "metadata": {},
     "output_type": "execute_result"
    }
   ],
   "source": [
    "a.find('i')"
   ]
  },
  {
   "cell_type": "code",
   "execution_count": 8,
   "id": "1d60ccf2-3fe9-4a1e-8fd8-51f25f303ddf",
   "metadata": {},
   "outputs": [
    {
     "data": {
      "text/plain": [
       "True"
      ]
     },
     "execution_count": 8,
     "metadata": {},
     "output_type": "execute_result"
    }
   ],
   "source": [
    "'as' in a"
   ]
  },
  {
   "cell_type": "markdown",
   "id": "8c8f1496-3ef6-4e1b-8dc0-a9d3f8a4015a",
   "metadata": {},
   "source": [
    "# Data Structure"
   ]
  },
  {
   "cell_type": "code",
   "execution_count": 25,
   "id": "098d9378-3944-433e-9fbc-e2079ae71746",
   "metadata": {},
   "outputs": [],
   "source": [
    "L=[1,3,4.9,3]\n",
    "T=(1,3,4.9,'name',3)\n",
    "S={1,3,4.9,'name',3}\n",
    "D={23:'twothree','B':43,'C':'CCD'}"
   ]
  },
  {
   "cell_type": "code",
   "execution_count": 5,
   "id": "db68ae33-8d3c-41f6-853a-b76447c2c42e",
   "metadata": {},
   "outputs": [],
   "source": [
    "L[1]=34"
   ]
  },
  {
   "cell_type": "code",
   "execution_count": 6,
   "id": "f4ba7d18-f9d9-49d6-8e53-a075f79457f0",
   "metadata": {},
   "outputs": [
    {
     "name": "stdout",
     "output_type": "stream",
     "text": [
      "[1, 34, 4.9, 'name', 3]\n"
     ]
    }
   ],
   "source": [
    "print(L)"
   ]
  },
  {
   "cell_type": "code",
   "execution_count": 8,
   "id": "287abef5-48b3-4838-93a7-c691661fcd1a",
   "metadata": {},
   "outputs": [],
   "source": [
    "D[23]='i changed this '"
   ]
  },
  {
   "cell_type": "code",
   "execution_count": 9,
   "id": "6686dc5d-11c5-4b5d-85b3-fa7d1bc04f37",
   "metadata": {},
   "outputs": [
    {
     "name": "stdout",
     "output_type": "stream",
     "text": [
      "{23: 'i changed this ', 'B': 43, 'C': 'CCD'}\n"
     ]
    }
   ],
   "source": [
    "print(D)"
   ]
  },
  {
   "cell_type": "code",
   "execution_count": 24,
   "id": "e92dbee5-f467-41ec-b381-1789e693aae8",
   "metadata": {},
   "outputs": [],
   "source": [
    "L= L + [78,89.09]"
   ]
  },
  {
   "cell_type": "code",
   "execution_count": 26,
   "id": "d490514e-465f-4925-9508-2c3d456aaf4a",
   "metadata": {},
   "outputs": [
    {
     "data": {
      "text/plain": [
       "[1, 3, 4.9, 3]"
      ]
     },
     "execution_count": 26,
     "metadata": {},
     "output_type": "execute_result"
    }
   ],
   "source": [
    "L"
   ]
  },
  {
   "cell_type": "code",
   "execution_count": 32,
   "id": "2c12ac8a-e0c2-46ff-873c-a951ae41571a",
   "metadata": {},
   "outputs": [
    {
     "data": {
      "text/plain": [
       "{23: 'twothree', 'B': 43, 'C': 'CCD', 'd': 'ddd', 'hdjd': 80}"
      ]
     },
     "execution_count": 32,
     "metadata": {},
     "output_type": "execute_result"
    }
   ],
   "source": [
    "D.update({'d':'ddd','hdjd':80})\n",
    "D"
   ]
  },
  {
   "cell_type": "code",
   "execution_count": 13,
   "id": "ba63976e-b7a1-4638-91cd-114d616d83a5",
   "metadata": {},
   "outputs": [],
   "source": [
    "del L[3]"
   ]
  },
  {
   "cell_type": "code",
   "execution_count": 29,
   "id": "e7e0199a-1667-4b0d-bff2-5bb257a968a3",
   "metadata": {},
   "outputs": [
    {
     "data": {
      "text/plain": [
       "[1, 3, 3, 4.9]"
      ]
     },
     "execution_count": 29,
     "metadata": {},
     "output_type": "execute_result"
    }
   ],
   "source": [
    "L.sort()\n",
    "L"
   ]
  },
  {
   "cell_type": "code",
   "execution_count": 34,
   "id": "863298ab-e565-43e7-9812-f0f76e508f2b",
   "metadata": {},
   "outputs": [
    {
     "data": {
      "text/plain": [
       "\u001b[1;31mSignature:\u001b[0m \u001b[0mD\u001b[0m\u001b[1;33m.\u001b[0m\u001b[0mfromkeys\u001b[0m\u001b[1;33m(\u001b[0m\u001b[0miterable\u001b[0m\u001b[1;33m,\u001b[0m \u001b[0mvalue\u001b[0m\u001b[1;33m=\u001b[0m\u001b[1;32mNone\u001b[0m\u001b[1;33m,\u001b[0m \u001b[1;33m/\u001b[0m\u001b[1;33m)\u001b[0m\u001b[1;33m\u001b[0m\u001b[1;33m\u001b[0m\u001b[0m\n",
       "\u001b[1;31mDocstring:\u001b[0m Create a new dictionary with keys from iterable and values set to value.\n",
       "\u001b[1;31mType:\u001b[0m      builtin_function_or_method"
      ]
     },
     "metadata": {},
     "output_type": "display_data"
    }
   ],
   "source": [
    "D."
   ]
  },
  {
   "cell_type": "markdown",
   "id": "548e183f-dde5-437d-ac67-7afe384de59b",
   "metadata": {},
   "source": [
    "# Numpy"
   ]
  },
  {
   "cell_type": "code",
   "execution_count": 16,
   "id": "f63a673f-1597-4213-b485-f99b0dbb2082",
   "metadata": {},
   "outputs": [],
   "source": [
    "import numpy as np"
   ]
  },
  {
   "cell_type": "code",
   "execution_count": 15,
   "id": "2121d172-e8c4-468f-9bd5-f7fcfe078e51",
   "metadata": {},
   "outputs": [],
   "source": [
    "b=np.array([1,2,3,4,5,6])"
   ]
  },
  {
   "cell_type": "code",
   "execution_count": 46,
   "id": "c6972475-0993-4d48-bd64-68aa3445bcb5",
   "metadata": {},
   "outputs": [],
   "source": [
    "a=np.array([[[1,8,3,7],[2,3,4,5]],[[2,4,4,3],[2,3,4,2]]])"
   ]
  },
  {
   "cell_type": "code",
   "execution_count": 51,
   "id": "be2346d9-d043-4387-a1c0-a55b7af1b30a",
   "metadata": {},
   "outputs": [
    {
     "data": {
      "text/plain": [
       "64"
      ]
     },
     "execution_count": 51,
     "metadata": {},
     "output_type": "execute_result"
    }
   ],
   "source": [
    "a.nbytes"
   ]
  },
  {
   "cell_type": "code",
   "execution_count": 33,
   "id": "36690895-5680-4ade-b8eb-bba4dfff75f7",
   "metadata": {},
   "outputs": [
    {
     "data": {
      "text/plain": [
       "numpy.ndarray"
      ]
     },
     "execution_count": 33,
     "metadata": {},
     "output_type": "execute_result"
    }
   ],
   "source": [
    "type(a)"
   ]
  },
  {
   "cell_type": "code",
   "execution_count": 87,
   "id": "a2fa9d1a-5c1b-4a3f-aab7-c230758086a4",
   "metadata": {},
   "outputs": [
    {
     "data": {
      "text/plain": [
       "array([ 0,  5, 10, 15, 20, 25, 30, 35, 40, 45, 50, 55, 60, 65, 70, 75, 80,\n",
       "       85, 90, 95])"
      ]
     },
     "execution_count": 87,
     "metadata": {},
     "output_type": "execute_result"
    }
   ],
   "source": [
    "c=np.arange(0,100,5)\n",
    "c"
   ]
  },
  {
   "cell_type": "code",
   "execution_count": 93,
   "id": "c21c1b73-9c11-4cd2-bf81-93f29f9f0652",
   "metadata": {},
   "outputs": [
    {
     "data": {
      "text/plain": [
       "3"
      ]
     },
     "execution_count": 93,
     "metadata": {},
     "output_type": "execute_result"
    }
   ],
   "source": [
    "np.argwhere(c==15)[0][0]"
   ]
  },
  {
   "cell_type": "code",
   "execution_count": 94,
   "id": "33eca7bf-5d77-490e-8624-65bc72a176ba",
   "metadata": {},
   "outputs": [],
   "source": [
    "d=np.arange(100)"
   ]
  },
  {
   "cell_type": "code",
   "execution_count": 102,
   "id": "ba33dba1-7946-4e6a-84ba-094a75d140ce",
   "metadata": {},
   "outputs": [],
   "source": [
    "j=d[(d<40) & (d>20)]"
   ]
  },
  {
   "cell_type": "code",
   "execution_count": 110,
   "id": "7a1891b7-bcae-47e4-91b4-fc50c98e8d13",
   "metadata": {},
   "outputs": [
    {
     "data": {
      "text/plain": [
       "array([ 0,  5, 12, 15, 20, 25, 30, 35, 40, 45, 50, 55, 60, 65, 70, 75, 80,\n",
       "       85, 90, 95])"
      ]
     },
     "execution_count": 110,
     "metadata": {},
     "output_type": "execute_result"
    }
   ],
   "source": [
    "c "
   ]
  },
  {
   "cell_type": "markdown",
   "id": "a2aeb1c2-f5ab-4780-95d1-3a0972238359",
   "metadata": {},
   "source": [
    "# Pandas"
   ]
  },
  {
   "cell_type": "code",
   "execution_count": 111,
   "id": "2a5d1bf3-58bf-43eb-b281-b5ea0218271c",
   "metadata": {},
   "outputs": [],
   "source": [
    "import pandas as pd"
   ]
  },
  {
   "cell_type": "code",
   "execution_count": 125,
   "id": "347445b7-af3c-4f6b-9f7f-09eac0c5f005",
   "metadata": {},
   "outputs": [],
   "source": [
    "data=pd.Series([34,89,233,'df'],index=['a','b','c','d'])"
   ]
  },
  {
   "cell_type": "code",
   "execution_count": 129,
   "id": "9322e1db-82f9-4e9b-a586-7ff9f2bec8bf",
   "metadata": {},
   "outputs": [],
   "source": [
    "data['d']=56"
   ]
  },
  {
   "cell_type": "code",
   "execution_count": 130,
   "id": "d18d6bc0-d0ab-49f3-86ec-e20c5a4368b3",
   "metadata": {},
   "outputs": [
    {
     "data": {
      "text/plain": [
       "a     56\n",
       "b     89\n",
       "c    233\n",
       "d     56\n",
       "dtype: object"
      ]
     },
     "execution_count": 130,
     "metadata": {},
     "output_type": "execute_result"
    }
   ],
   "source": [
    "data"
   ]
  },
  {
   "cell_type": "code",
   "execution_count": 138,
   "id": "46cd2b64-d285-45d5-b7d3-1340e525c616",
   "metadata": {},
   "outputs": [
    {
     "data": {
      "text/plain": [
       "A     4.0\n",
       "A-    3.5\n",
       "B-    2.5\n",
       "B     2.0\n",
       "dtype: float64"
      ]
     },
     "execution_count": 138,
     "metadata": {},
     "output_type": "execute_result"
    }
   ],
   "source": [
    "grades=pd.Series({'A':4,'A-':3.5,'B-':2.5,'B':2})\n",
    "marks=pd.Series({'A':85,'A-':80,'B-':75,'B':70,'B+':65})\n"
   ]
  },
  {
   "cell_type": "code",
   "execution_count": 140,
   "id": "4138d7b3-809b-464d-ab0e-0affa1a2e034",
   "metadata": {},
   "outputs": [
    {
     "data": {
      "text/html": [
       "<div>\n",
       "<style scoped>\n",
       "    .dataframe tbody tr th:only-of-type {\n",
       "        vertical-align: middle;\n",
       "    }\n",
       "\n",
       "    .dataframe tbody tr th {\n",
       "        vertical-align: top;\n",
       "    }\n",
       "\n",
       "    .dataframe thead th {\n",
       "        text-align: right;\n",
       "    }\n",
       "</style>\n",
       "<table border=\"1\" class=\"dataframe\">\n",
       "  <thead>\n",
       "    <tr style=\"text-align: right;\">\n",
       "      <th></th>\n",
       "      <th>Grades</th>\n",
       "      <th>Marks</th>\n",
       "    </tr>\n",
       "  </thead>\n",
       "  <tbody>\n",
       "    <tr>\n",
       "      <th>A</th>\n",
       "      <td>4.0</td>\n",
       "      <td>85</td>\n",
       "    </tr>\n",
       "    <tr>\n",
       "      <th>A-</th>\n",
       "      <td>3.5</td>\n",
       "      <td>80</td>\n",
       "    </tr>\n",
       "    <tr>\n",
       "      <th>B</th>\n",
       "      <td>2.0</td>\n",
       "      <td>70</td>\n",
       "    </tr>\n",
       "    <tr>\n",
       "      <th>B+</th>\n",
       "      <td>NaN</td>\n",
       "      <td>65</td>\n",
       "    </tr>\n",
       "    <tr>\n",
       "      <th>B-</th>\n",
       "      <td>2.5</td>\n",
       "      <td>75</td>\n",
       "    </tr>\n",
       "  </tbody>\n",
       "</table>\n",
       "</div>"
      ],
      "text/plain": [
       "    Grades  Marks\n",
       "A      4.0     85\n",
       "A-     3.5     80\n",
       "B      2.0     70\n",
       "B+     NaN     65\n",
       "B-     2.5     75"
      ]
     },
     "execution_count": 140,
     "metadata": {},
     "output_type": "execute_result"
    }
   ],
   "source": [
    "rs=pd.DataFrame({'Grades':grades,'Marks':marks})\n",
    "rs"
   ]
  },
  {
   "cell_type": "code",
   "execution_count": 148,
   "id": "db8d6ace-7d78-431a-9cb4-4e3aa0681cec",
   "metadata": {},
   "outputs": [
    {
     "ename": "SyntaxError",
     "evalue": "invalid syntax (623415706.py, line 1)",
     "output_type": "error",
     "traceback": [
      "\u001b[1;36m  Cell \u001b[1;32mIn[148], line 1\u001b[1;36m\u001b[0m\n\u001b[1;33m    rs['Percentage']=rs['Marks']/100%\u001b[0m\n\u001b[1;37m                                     ^\u001b[0m\n\u001b[1;31mSyntaxError\u001b[0m\u001b[1;31m:\u001b[0m invalid syntax\n"
     ]
    }
   ],
   "source": [
    "rs['Percentage']=rs['Marks']/100"
   ]
  },
  {
   "cell_type": "code",
   "execution_count": 147,
   "id": "6552147c-b5b2-4464-ac21-906b67f49867",
   "metadata": {},
   "outputs": [
    {
     "data": {
      "text/html": [
       "<div>\n",
       "<style scoped>\n",
       "    .dataframe tbody tr th:only-of-type {\n",
       "        vertical-align: middle;\n",
       "    }\n",
       "\n",
       "    .dataframe tbody tr th {\n",
       "        vertical-align: top;\n",
       "    }\n",
       "\n",
       "    .dataframe thead th {\n",
       "        text-align: right;\n",
       "    }\n",
       "</style>\n",
       "<table border=\"1\" class=\"dataframe\">\n",
       "  <thead>\n",
       "    <tr style=\"text-align: right;\">\n",
       "      <th></th>\n",
       "      <th>Grades</th>\n",
       "      <th>Marks</th>\n",
       "      <th>Percentage</th>\n",
       "    </tr>\n",
       "  </thead>\n",
       "  <tbody>\n",
       "    <tr>\n",
       "      <th>A</th>\n",
       "      <td>4.0</td>\n",
       "      <td>85</td>\n",
       "      <td>0.85</td>\n",
       "    </tr>\n",
       "    <tr>\n",
       "      <th>A-</th>\n",
       "      <td>3.5</td>\n",
       "      <td>80</td>\n",
       "      <td>0.80</td>\n",
       "    </tr>\n",
       "    <tr>\n",
       "      <th>B</th>\n",
       "      <td>2.0</td>\n",
       "      <td>70</td>\n",
       "      <td>0.70</td>\n",
       "    </tr>\n",
       "    <tr>\n",
       "      <th>B+</th>\n",
       "      <td>NaN</td>\n",
       "      <td>65</td>\n",
       "      <td>0.65</td>\n",
       "    </tr>\n",
       "    <tr>\n",
       "      <th>B-</th>\n",
       "      <td>2.5</td>\n",
       "      <td>75</td>\n",
       "      <td>0.75</td>\n",
       "    </tr>\n",
       "  </tbody>\n",
       "</table>\n",
       "</div>"
      ],
      "text/plain": [
       "    Grades  Marks  Percentage\n",
       "A      4.0     85        0.85\n",
       "A-     3.5     80        0.80\n",
       "B      2.0     70        0.70\n",
       "B+     NaN     65        0.65\n",
       "B-     2.5     75        0.75"
      ]
     },
     "execution_count": 147,
     "metadata": {},
     "output_type": "execute_result"
    }
   ],
   "source": [
    "rs"
   ]
  },
  {
   "cell_type": "code",
   "execution_count": 149,
   "id": "c36ef52a-4e41-467b-a578-2e20149795d1",
   "metadata": {},
   "outputs": [],
   "source": [
    "del rs['Percentage']"
   ]
  },
  {
   "cell_type": "code",
   "execution_count": 153,
   "id": "d902127e-ec2a-45b3-a40b-7677e6c86da5",
   "metadata": {},
   "outputs": [
    {
     "data": {
      "text/html": [
       "<div>\n",
       "<style scoped>\n",
       "    .dataframe tbody tr th:only-of-type {\n",
       "        vertical-align: middle;\n",
       "    }\n",
       "\n",
       "    .dataframe tbody tr th {\n",
       "        vertical-align: top;\n",
       "    }\n",
       "\n",
       "    .dataframe thead th {\n",
       "        text-align: right;\n",
       "    }\n",
       "</style>\n",
       "<table border=\"1\" class=\"dataframe\">\n",
       "  <thead>\n",
       "    <tr style=\"text-align: right;\">\n",
       "      <th></th>\n",
       "      <th>Grades</th>\n",
       "      <th>Marks</th>\n",
       "      <th>Percentage</th>\n",
       "      <th>Next Grade</th>\n",
       "    </tr>\n",
       "  </thead>\n",
       "  <tbody>\n",
       "    <tr>\n",
       "      <th>A</th>\n",
       "      <td>4.0</td>\n",
       "      <td>85</td>\n",
       "      <td>0.85</td>\n",
       "      <td>5.0</td>\n",
       "    </tr>\n",
       "    <tr>\n",
       "      <th>A-</th>\n",
       "      <td>3.5</td>\n",
       "      <td>80</td>\n",
       "      <td>0.80</td>\n",
       "      <td>4.5</td>\n",
       "    </tr>\n",
       "    <tr>\n",
       "      <th>B</th>\n",
       "      <td>2.0</td>\n",
       "      <td>70</td>\n",
       "      <td>0.70</td>\n",
       "      <td>3.0</td>\n",
       "    </tr>\n",
       "    <tr>\n",
       "      <th>B+</th>\n",
       "      <td>NaN</td>\n",
       "      <td>65</td>\n",
       "      <td>0.65</td>\n",
       "      <td>NaN</td>\n",
       "    </tr>\n",
       "    <tr>\n",
       "      <th>B-</th>\n",
       "      <td>2.5</td>\n",
       "      <td>75</td>\n",
       "      <td>0.75</td>\n",
       "      <td>3.5</td>\n",
       "    </tr>\n",
       "  </tbody>\n",
       "</table>\n",
       "</div>"
      ],
      "text/plain": [
       "    Grades  Marks  Percentage  Next Grade\n",
       "A      4.0     85        0.85         5.0\n",
       "A-     3.5     80        0.80         4.5\n",
       "B      2.0     70        0.70         3.0\n",
       "B+     NaN     65        0.65         NaN\n",
       "B-     2.5     75        0.75         3.5"
      ]
     },
     "execution_count": 153,
     "metadata": {},
     "output_type": "execute_result"
    }
   ],
   "source": [
    "rs['Percentage']=rs['Marks']/100\n",
    "rs['Next Grade']=rs['Grades']+1\n",
    "rs"
   ]
  },
  {
   "cell_type": "code",
   "execution_count": 159,
   "id": "5c127670-d599-4cf5-9739-8919b17b9438",
   "metadata": {},
   "outputs": [
    {
     "data": {
      "text/html": [
       "<div>\n",
       "<style scoped>\n",
       "    .dataframe tbody tr th:only-of-type {\n",
       "        vertical-align: middle;\n",
       "    }\n",
       "\n",
       "    .dataframe tbody tr th {\n",
       "        vertical-align: top;\n",
       "    }\n",
       "\n",
       "    .dataframe thead th {\n",
       "        text-align: right;\n",
       "    }\n",
       "</style>\n",
       "<table border=\"1\" class=\"dataframe\">\n",
       "  <thead>\n",
       "    <tr style=\"text-align: right;\">\n",
       "      <th></th>\n",
       "      <th>Grades</th>\n",
       "      <th>Marks</th>\n",
       "      <th>Percentage</th>\n",
       "      <th>Next Grade</th>\n",
       "    </tr>\n",
       "  </thead>\n",
       "  <tbody>\n",
       "    <tr>\n",
       "      <th>A</th>\n",
       "      <td>4.0</td>\n",
       "      <td>85</td>\n",
       "      <td>0.85</td>\n",
       "      <td>5.0</td>\n",
       "    </tr>\n",
       "    <tr>\n",
       "      <th>A-</th>\n",
       "      <td>3.5</td>\n",
       "      <td>80</td>\n",
       "      <td>0.80</td>\n",
       "      <td>4.5</td>\n",
       "    </tr>\n",
       "    <tr>\n",
       "      <th>B</th>\n",
       "      <td>2.0</td>\n",
       "      <td>70</td>\n",
       "      <td>0.70</td>\n",
       "      <td>3.0</td>\n",
       "    </tr>\n",
       "    <tr>\n",
       "      <th>B+</th>\n",
       "      <td>1.0</td>\n",
       "      <td>65</td>\n",
       "      <td>0.65</td>\n",
       "      <td>1.0</td>\n",
       "    </tr>\n",
       "    <tr>\n",
       "      <th>B-</th>\n",
       "      <td>2.5</td>\n",
       "      <td>75</td>\n",
       "      <td>0.75</td>\n",
       "      <td>3.5</td>\n",
       "    </tr>\n",
       "  </tbody>\n",
       "</table>\n",
       "</div>"
      ],
      "text/plain": [
       "    Grades  Marks  Percentage  Next Grade\n",
       "A      4.0     85        0.85         5.0\n",
       "A-     3.5     80        0.80         4.5\n",
       "B      2.0     70        0.70         3.0\n",
       "B+     1.0     65        0.65         1.0\n",
       "B-     2.5     75        0.75         3.5"
      ]
     },
     "execution_count": 159,
     "metadata": {},
     "output_type": "execute_result"
    }
   ],
   "source": [
    "rs.fillna(1)"
   ]
  },
  {
   "cell_type": "code",
   "execution_count": 168,
   "id": "51505b92-9e0f-441e-bd59-32bb85ceb517",
   "metadata": {},
   "outputs": [
    {
     "data": {
      "text/html": [
       "<div>\n",
       "<style scoped>\n",
       "    .dataframe tbody tr th:only-of-type {\n",
       "        vertical-align: middle;\n",
       "    }\n",
       "\n",
       "    .dataframe tbody tr th {\n",
       "        vertical-align: top;\n",
       "    }\n",
       "\n",
       "    .dataframe thead th {\n",
       "        text-align: right;\n",
       "    }\n",
       "</style>\n",
       "<table border=\"1\" class=\"dataframe\">\n",
       "  <thead>\n",
       "    <tr style=\"text-align: right;\">\n",
       "      <th></th>\n",
       "      <th>Grades</th>\n",
       "      <th>Marks</th>\n",
       "      <th>Percentage</th>\n",
       "      <th>Next Grade</th>\n",
       "    </tr>\n",
       "  </thead>\n",
       "  <tbody>\n",
       "    <tr>\n",
       "      <th>A</th>\n",
       "      <td>4.0</td>\n",
       "      <td>85</td>\n",
       "      <td>0.85</td>\n",
       "      <td>5.0</td>\n",
       "    </tr>\n",
       "    <tr>\n",
       "      <th>A-</th>\n",
       "      <td>3.5</td>\n",
       "      <td>80</td>\n",
       "      <td>0.80</td>\n",
       "      <td>4.5</td>\n",
       "    </tr>\n",
       "    <tr>\n",
       "      <th>B</th>\n",
       "      <td>2.0</td>\n",
       "      <td>70</td>\n",
       "      <td>0.70</td>\n",
       "      <td>3.0</td>\n",
       "    </tr>\n",
       "    <tr>\n",
       "      <th>B+</th>\n",
       "      <td>NaN</td>\n",
       "      <td>65</td>\n",
       "      <td>0.65</td>\n",
       "      <td>NaN</td>\n",
       "    </tr>\n",
       "    <tr>\n",
       "      <th>B-</th>\n",
       "      <td>2.5</td>\n",
       "      <td>75</td>\n",
       "      <td>0.75</td>\n",
       "      <td>3.5</td>\n",
       "    </tr>\n",
       "  </tbody>\n",
       "</table>\n",
       "</div>"
      ],
      "text/plain": [
       "    Grades  Marks  Percentage  Next Grade\n",
       "A      4.0     85        0.85         5.0\n",
       "A-     3.5     80        0.80         4.5\n",
       "B      2.0     70        0.70         3.0\n",
       "B+     NaN     65        0.65         NaN\n",
       "B-     2.5     75        0.75         3.5"
      ]
     },
     "execution_count": 168,
     "metadata": {},
     "output_type": "execute_result"
    }
   ],
   "source": [
    "rs"
   ]
  },
  {
   "cell_type": "code",
   "execution_count": null,
   "id": "e7e42db7-b5b9-4513-b155-d12d47cd2e7c",
   "metadata": {},
   "outputs": [],
   "source": []
  }
 ],
 "metadata": {
  "kernelspec": {
   "display_name": "Python 3 (ipykernel)",
   "language": "python",
   "name": "python3"
  },
  "language_info": {
   "codemirror_mode": {
    "name": "ipython",
    "version": 3
   },
   "file_extension": ".py",
   "mimetype": "text/x-python",
   "name": "python",
   "nbconvert_exporter": "python",
   "pygments_lexer": "ipython3",
   "version": "3.12.0"
  }
 },
 "nbformat": 4,
 "nbformat_minor": 5
}
